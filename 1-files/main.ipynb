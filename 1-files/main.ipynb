{
 "cells": [
  {
   "cell_type": "markdown",
   "metadata": {},
   "source": [
    "# Files:\n",
    "\n",
    "- Reading a txt file\n",
    "- writing a txt file\n",
    "\n",
    "`f = open(filename, mode)`\n",
    "\n",
    "mode is one of the followings:\n",
    "\n",
    "+\n",
    "+\n",
    "+\n",
    "+\n",
    "+\n",
    "+\n",
    "+\n",
    "\n",
    "\n",
    "### 1-important functions:\n",
    "\n",
    "+ `read()` and `readline()`\n",
    "+ `wirte()` and `writeline()`\n",
    "+ `close()`\n",
    "+ `with`  expresion\n",
    "+ `flush()`\n"
   ]
  },
  {
   "cell_type": "code",
   "execution_count": null,
   "metadata": {},
   "outputs": [],
   "source": []
  },
  {
   "cell_type": "markdown",
   "metadata": {},
   "source": [
    "+ `try-except-finally` Expresion\n"
   ]
  },
  {
   "cell_type": "code",
   "execution_count": null,
   "metadata": {},
   "outputs": [],
   "source": []
  },
  {
   "cell_type": "markdown",
   "metadata": {},
   "source": [
    "### 2-working with directories (`OS` module)\n",
    "\n",
    "important functions:\n",
    "\n",
    "+ `getcwd()`\n",
    "+ `chdir()`\n",
    "+ `mkdir()`\n",
    "+ `makedirs()`\n",
    "+ `listdir()`\n",
    "+ `path.join()`\n"
   ]
  },
  {
   "cell_type": "code",
   "execution_count": null,
   "metadata": {},
   "outputs": [],
   "source": []
  },
  {
   "cell_type": "markdown",
   "metadata": {},
   "source": [
    "### 3- CRUD Principles"
   ]
  },
  {
   "cell_type": "code",
   "execution_count": 4,
   "metadata": {},
   "outputs": [],
   "source": [
    "# A simple class Data_Base that create a text file as a database, with the following behaviors\n",
    "# dataBase format: CSV (comma seperated values)\n",
    "import os\n",
    "class DataBase:\n",
    "            \n",
    "# Create and Read\n",
    "    def __init__(self, _path_=\"\", _columns_=[], _recs_=0, _db_name_=\"db.txt\") -> None:\n",
    "        # 1-create a list of databasis and add every databasis that is in in cwd/db if there is.\n",
    "        dbs = []\n",
    "        # 2- if the list is not empty:\n",
    "            #2-1 if os.path.isfile(__path__):\n",
    "                #2-1-1 add __path__ to list ask the user to choose a database from the list\n",
    "            #2-2 else:\n",
    "                # ask the user to choose a database from the list\n",
    "        # 3- else :\n",
    "            #3-1 if os.path.isfile(__path__):\n",
    "                # read the _path_\n",
    "        \n",
    "            #3-2 else:\n",
    "                # create a databasis in cwd/db\n",
    "# Update\n",
    "    def _update(field=\"\", key=\"\", n_val=\"\"):\n",
    "        pass\n",
    "    def _delete(field=\"\", key=\"\"): # delete the record with `field` as one of elements in `_columns_` having value=`key`\n",
    "        pass\n",
    "    def _search(field=\"\", key=\"\"):\n",
    "        pass\n",
    "\n"
   ]
  },
  {
   "cell_type": "markdown",
   "metadata": {},
   "source": [
    "### 4-Project\\#1 (Todo-List)\n",
    "\n",
    "Database Fields(Columns):\n",
    "+ `subject` (string)\n",
    "+ `priority` (1, 2, 3)\n",
    "+ `state` ('done' or 'in-progress' or 'scheduled')\n",
    "\n",
    "behaviors:\n",
    "+ `add`\n",
    "+ `state-manager`\n",
    "+ `set-priority`\n",
    "+ `change-priority`\n",
    "+ `create-todo`\n",
    "\n",
    "\n",
    "Important Notes!\n",
    "1. use the `TK` module\n",
    "2. implement it with `TK` and OOP\n"
   ]
  },
  {
   "cell_type": "code",
   "execution_count": null,
   "metadata": {},
   "outputs": [],
   "source": []
  },
  {
   "cell_type": "markdown",
   "metadata": {},
   "source": [
    "### 4-Project\\#2 (Password-Manager)\n",
    "\n",
    "database fields(columns):\n",
    "+ `web-site` (url)\n",
    "+ `us-name` (user_Name)\n",
    "+ `password` (password)\n",
    "\n",
    "behaviors:\n",
    "+ `search`\n",
    "+ `add`\n",
    "+ `update`\n",
    "+ `generate-pass`\n"
   ]
  },
  {
   "cell_type": "code",
   "execution_count": null,
   "metadata": {},
   "outputs": [],
   "source": []
  }
 ],
 "metadata": {
  "kernelspec": {
   "display_name": "Python 3",
   "language": "python",
   "name": "python3"
  },
  "language_info": {
   "codemirror_mode": {
    "name": "ipython",
    "version": 3
   },
   "file_extension": ".py",
   "mimetype": "text/x-python",
   "name": "python",
   "nbconvert_exporter": "python",
   "pygments_lexer": "ipython3",
   "version": "3.9.7"
  }
 },
 "nbformat": 4,
 "nbformat_minor": 2
}
